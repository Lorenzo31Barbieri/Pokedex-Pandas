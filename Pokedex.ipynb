{
  "nbformat": 4,
  "nbformat_minor": 0,
  "metadata": {
    "colab": {
      "provenance": [],
      "authorship_tag": "ABX9TyMQn7yk87aAm9RSz8urDwmt",
      "include_colab_link": true
    },
    "kernelspec": {
      "name": "python3",
      "display_name": "Python 3"
    },
    "language_info": {
      "name": "python"
    }
  },
  "cells": [
    {
      "cell_type": "markdown",
      "metadata": {
        "id": "view-in-github",
        "colab_type": "text"
      },
      "source": [
        "<a href=\"https://colab.research.google.com/github/Lorenzo31Barbieri/Pokedex-Pandas/blob/main/Pokedex.ipynb\" target=\"_parent\"><img src=\"https://colab.research.google.com/assets/colab-badge.svg\" alt=\"Open In Colab\"/></a>"
      ]
    },
    {
      "cell_type": "code",
      "execution_count": null,
      "metadata": {
        "id": "nSgajgkzrcj9"
      },
      "outputs": [],
      "source": [
        "import pandas as pd\n",
        "\n",
        "url = 'https://raw.githubusercontent.com/KeithGalli/pandas/master/pokemon_data.csv'\n",
        "df = pd.read_csv(url)"
      ]
    },
    {
      "cell_type": "code",
      "source": [
        "nome = input(\"Scegli pokemon: \")\n",
        "\n",
        "\n",
        "pokemon = df.loc[df['Name'].str.contains(nome, na=False, case=False)]\n",
        "\n",
        "if pokemon.empty:\n",
        "  print(\"Pokemon non trovato\")\n",
        "else:\n",
        "  print(pokemon)\n",
        "\n"
      ],
      "metadata": {
        "id": "eyV-Bp1hrlR-"
      },
      "execution_count": null,
      "outputs": []
    }
  ]
}